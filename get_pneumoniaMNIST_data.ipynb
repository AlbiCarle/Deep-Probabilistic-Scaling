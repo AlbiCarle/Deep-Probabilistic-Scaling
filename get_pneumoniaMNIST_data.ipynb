{
 "cells": [
  {
   "cell_type": "code",
   "execution_count": null,
   "metadata": {},
   "outputs": [],
   "source": [
    "!pip install medmnist"
   ]
  },
  {
   "cell_type": "code",
   "execution_count": 1,
   "metadata": {},
   "outputs": [],
   "source": [
    "from tqdm import tqdm\n",
    "import numpy as np\n",
    "\n",
    "import medmnist\n",
    "from medmnist import INFO, Evaluator\n",
    "\n",
    "import dataset_without_pytorch\n",
    "\n",
    "from dataset_without_pytorch import get_loader"
   ]
  },
  {
   "cell_type": "markdown",
   "metadata": {},
   "source": [
    "# Collect a dataset of 2d images with size 224x224"
   ]
  },
  {
   "cell_type": "code",
   "execution_count": 3,
   "metadata": {},
   "outputs": [
    {
     "name": "stdout",
     "output_type": "stream",
     "text": [
      "Using downloaded and verified file: C:\\Users\\alber\\.medmnist\\pneumoniamnist_224.npz\n",
      "Using downloaded and verified file: C:\\Users\\alber\\.medmnist\\pneumoniamnist_224.npz\n",
      "Using downloaded and verified file: C:\\Users\\alber\\.medmnist\\pneumoniamnist_224.npz\n"
     ]
    }
   ],
   "source": [
    "data_flag = 'pneumoniamnist'\n",
    "download = True\n",
    "\n",
    "#BATCH_SIZE = 128\n",
    "\n",
    "info = INFO[data_flag]\n",
    "DataClass = getattr(dataset_without_pytorch, info['python_class'])\n",
    "\n",
    "# load the original data\n",
    "train_dataset = DataClass(split='train', download=download, size=224, mmap_mode='r')\n",
    "test_dataset = DataClass(split='test', download=download, size=224, mmap_mode='r')\n",
    "val_dataset = DataClass(split='test', download=download, size=224, mmap_mode='r')\n",
    "\n",
    "# encapsulate data into dataloader form\n",
    "train_loader = get_loader(dataset=train_dataset, batch_size=4708)\n",
    "test_loader = get_loader(dataset=test_dataset, batch_size=524)\n",
    "val_loader = get_loader(dataset=val_dataset, batch_size=624)"
   ]
  },
  {
   "cell_type": "code",
   "execution_count": 4,
   "metadata": {},
   "outputs": [
    {
     "name": "stdout",
     "output_type": "stream",
     "text": [
      "Size 4708\n",
      "Size 624\n",
      "Size 624\n"
     ]
    }
   ],
   "source": [
    "for x, y in train_loader:\n",
    "    Xtr = x\n",
    "    Ytr = y\n",
    "    break\n",
    "for x, y in test_loader:\n",
    "    Xts = x\n",
    "    Yts = y\n",
    "    break\n",
    "for x, y in val_loader:\n",
    "    Xval = x\n",
    "    Yval = y\n",
    "    break"
   ]
  },
  {
   "cell_type": "code",
   "execution_count": 5,
   "metadata": {
    "scrolled": true
   },
   "outputs": [
    {
     "name": "stdout",
     "output_type": "stream",
     "text": [
      "(4708, 224, 224)\n",
      "(524, 224, 224)\n",
      "(624, 224, 224)\n"
     ]
    }
   ],
   "source": [
    "print(Xtr.shape)\n",
    "print(Xts.shape)\n",
    "print(Xval.shape)"
   ]
  },
  {
   "cell_type": "code",
   "execution_count": 11,
   "metadata": {},
   "outputs": [],
   "source": [
    "pneumoniaX = np.vstack((Xtr,Xts,Xval))\n",
    "pneumoniaY = np.vstack((Ytr,Yts,Yval))\n",
    "np.save(\"data/pneumoniaMNIST_images.npy\",pneumoniaX)\n",
    "np.save(\"data/pneumoniaMNIST_labels.npy\",pneumoniaY)"
   ]
  }
 ],
 "metadata": {
  "kernelspec": {
   "display_name": "Python 3 (ipykernel)",
   "language": "python",
   "name": "python3"
  },
  "language_info": {
   "codemirror_mode": {
    "name": "ipython",
    "version": 3
   },
   "file_extension": ".py",
   "mimetype": "text/x-python",
   "name": "python",
   "nbconvert_exporter": "python",
   "pygments_lexer": "ipython3",
   "version": "3.11.5"
  }
 },
 "nbformat": 4,
 "nbformat_minor": 4
}
