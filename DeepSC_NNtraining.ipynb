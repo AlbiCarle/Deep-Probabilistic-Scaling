{
 "cells": [
  {
   "cell_type": "markdown",
   "id": "8e2e5998",
   "metadata": {
    "papermill": {
     "duration": 0.00628,
     "end_time": "2022-08-06T05:10:10.110284",
     "exception": false,
     "start_time": "2022-08-06T05:10:10.104004",
     "status": "completed"
    },
    "tags": []
   },
   "source": [
    "# 1. Import Python modules"
   ]
  },
  {
   "cell_type": "code",
   "execution_count": 1,
   "id": "da711c1f",
   "metadata": {
    "execution": {
     "iopub.execute_input": "2022-08-06T05:10:10.125796Z",
     "iopub.status.busy": "2022-08-06T05:10:10.124976Z",
     "iopub.status.idle": "2022-08-06T05:10:17.973053Z",
     "shell.execute_reply": "2022-08-06T05:10:17.972061Z"
    },
    "papermill": {
     "duration": 7.858994,
     "end_time": "2022-08-06T05:10:17.975844",
     "exception": false,
     "start_time": "2022-08-06T05:10:10.116850",
     "status": "completed"
    },
    "tags": []
   },
   "outputs": [
    {
     "name": "stdout",
     "output_type": "stream",
     "text": [
      "WARNING:tensorflow:From C:\\Users\\alber\\anaconda3\\Lib\\site-packages\\keras\\src\\losses.py:2976: The name tf.losses.sparse_softmax_cross_entropy is deprecated. Please use tf.compat.v1.losses.sparse_softmax_cross_entropy instead.\n",
      "\n"
     ]
    }
   ],
   "source": [
    "import numpy as np\n",
    "import pandas as pd\n",
    "import matplotlib.pyplot as plt\n",
    "import cv2\n",
    "import os\n",
    "import PIL\n",
    "import pathlib\n",
    "import random\n",
    "\n",
    "from sklearn.model_selection import train_test_split\n",
    "import tensorflow as tf\n",
    "from tensorflow import keras\n",
    "from tensorflow.keras.models import Sequential\n",
    "from tensorflow.keras.layers import Conv2D,Dense,Dropout, Flatten,Activation, BatchNormalization,MaxPooling2D\n",
    "from tensorflow.keras import datasets, layers, models\n",
    "from keras.preprocessing.image import load_img\n",
    "from keras.preprocessing.image import img_to_array\n",
    "\n",
    "from sklearn.metrics import auc, accuracy_score, confusion_matrix, mean_squared_error\n",
    "from sklearn.metrics import confusion_matrix, ConfusionMatrixDisplay\n",
    "from sklearn.metrics import precision_score, f1_score, recall_score\n",
    "\n",
    "import os\n",
    "from os.path import exists\n",
    "\n",
    "from utilsData import *\n",
    "from utilsModel import *"
   ]
  },
  {
   "cell_type": "markdown",
   "id": "e4129a15",
   "metadata": {},
   "source": [
    "# Configs"
   ]
  },
  {
   "cell_type": "code",
   "execution_count": 2,
   "id": "4055f982",
   "metadata": {},
   "outputs": [],
   "source": [
    "# folders to save NN model to file\n",
    "model_path = \"models/\"\n",
    "if not exists(model_path):\n",
    "    os.mkdir(model_path)\n",
    "    \n",
    "# folder with datasets\n",
    "data_path = \"data/\"\n",
    "\n",
    "# name of the scenario\n",
    "model_name = \"cifar10_auto_truck\" #\"mnist_1_7\", \"mnist_3_8\", \"mnist_2_5\",\"pneumoniaMNIST\", \"art\"\n",
    "\n",
    "delta = 1E-3\n",
    "epsilon = 0.01\n",
    "\n",
    "IMAGE_CHANNELS = 3 # 3 for rgb images\n",
    "\n",
    "labels_dict = {0: \"Automobile\", 1: \"Truck\"} # \"mnist_1_7\": {0:\"7\",1:\"1\"}, \"mnist_3_8\": {0:\"3\",1:\"8}\", \"mnist_2_5\": {0:\"2\",1:\"5\"},\"pneumoniaMNIST\":{0:\"normal\",1:\"pneumonia\"}, \"art\": {0:\"renaissance\", 1:\"baroque\"}\n"
   ]
  },
  {
   "cell_type": "markdown",
   "id": "e29ceaa2",
   "metadata": {
    "papermill": {
     "duration": 0.006192,
     "end_time": "2022-08-06T05:10:17.988869",
     "exception": false,
     "start_time": "2022-08-06T05:10:17.982677",
     "status": "completed"
    },
    "tags": []
   },
   "source": [
    "# 2. Load dataset"
   ]
  },
  {
   "cell_type": "code",
   "execution_count": 3,
   "id": "206c5749",
   "metadata": {
    "execution": {
     "iopub.execute_input": "2022-08-06T05:10:18.004270Z",
     "iopub.status.busy": "2022-08-06T05:10:18.003203Z",
     "iopub.status.idle": "2022-08-06T05:10:18.694892Z",
     "shell.execute_reply": "2022-08-06T05:10:18.693746Z"
    },
    "papermill": {
     "duration": 0.702362,
     "end_time": "2022-08-06T05:10:18.697687",
     "exception": false,
     "start_time": "2022-08-06T05:10:17.995325",
     "status": "completed"
    },
    "tags": []
   },
   "outputs": [],
   "source": [
    "X = np.load(data_path + model_name +\"_images.npy\")\n",
    "Y = np.load(data_path + model_name +\"_labels.npy\")\n"
   ]
  },
  {
   "cell_type": "markdown",
   "id": "5a894907",
   "metadata": {
    "papermill": {
     "duration": 0.017445,
     "end_time": "2022-08-06T05:13:50.528638",
     "exception": false,
     "start_time": "2022-08-06T05:13:50.511193",
     "status": "completed"
    },
    "tags": []
   },
   "source": [
    "# 3. Train Test split and save"
   ]
  },
  {
   "cell_type": "code",
   "execution_count": 29,
   "id": "8248311a",
   "metadata": {
    "execution": {
     "iopub.execute_input": "2022-08-06T05:13:50.566870Z",
     "iopub.status.busy": "2022-08-06T05:13:50.565573Z",
     "iopub.status.idle": "2022-08-06T05:13:51.002439Z",
     "shell.execute_reply": "2022-08-06T05:13:51.000690Z"
    },
    "papermill": {
     "duration": 0.458802,
     "end_time": "2022-08-06T05:13:51.005292",
     "exception": false,
     "start_time": "2022-08-06T05:13:50.546490",
     "status": "completed"
    },
    "tags": []
   },
   "outputs": [
    {
     "name": "stdout",
     "output_type": "stream",
     "text": [
      "Training set size:  1839\n",
      "Test set size:  3000\n",
      "Calibration set size:  5161\n"
     ]
    }
   ],
   "source": [
    "X_train, Y_train, X_cal, Y_cal, X_test, Y_test = SplitDataset(X, Y, delta, epsilon)\n",
    "\n",
    "print('Training set size: ', len(Y_train))\n",
    "print('Test set size: ', len(Y_test))\n",
    "print('Calibration set size: ', len(Y_cal))"
   ]
  },
  {
   "cell_type": "code",
   "execution_count": 31,
   "id": "f9fcf6e6",
   "metadata": {
    "execution": {
     "iopub.execute_input": "2022-08-06T05:13:50.566870Z",
     "iopub.status.busy": "2022-08-06T05:13:50.565573Z",
     "iopub.status.idle": "2022-08-06T05:13:51.002439Z",
     "shell.execute_reply": "2022-08-06T05:13:51.000690Z"
    },
    "papermill": {
     "duration": 0.458802,
     "end_time": "2022-08-06T05:13:51.005292",
     "exception": false,
     "start_time": "2022-08-06T05:13:50.546490",
     "status": "completed"
    },
    "tags": []
   },
   "outputs": [],
   "source": [
    "np.save(data_path + model_name+\"_trainX.npy\",X_train)\n",
    "np.save(data_path + model_name+\"_trainY.npy\",Y_train)\n",
    "np.save(data_path + model_name+\"_testX.npy\",X_test)\n",
    "np.save(data_path + model_name+\"_testY.npy\",Y_test)\n",
    "np.save(data_path + model_name+\"_calX.npy\",X_cal)\n",
    "np.save(data_path + model_name+\"_calY.npy\",Y_cal)"
   ]
  },
  {
   "cell_type": "markdown",
   "id": "e85b495b",
   "metadata": {
    "papermill": {
     "duration": 0.017434,
     "end_time": "2022-08-06T05:13:51.040180",
     "exception": false,
     "start_time": "2022-08-06T05:13:51.022746",
     "status": "completed"
    },
    "tags": []
   },
   "source": [
    "\n",
    "# 4. Build convolutional neural network and train it"
   ]
  },
  {
   "cell_type": "markdown",
   "id": "52b04ef3",
   "metadata": {},
   "source": [
    "## 4.1 CNN architecture"
   ]
  },
  {
   "cell_type": "code",
   "execution_count": 32,
   "id": "c4627498",
   "metadata": {
    "execution": {
     "iopub.execute_input": "2022-08-06T05:13:51.077541Z",
     "iopub.status.busy": "2022-08-06T05:13:51.077133Z",
     "iopub.status.idle": "2022-08-06T05:13:51.354917Z",
     "shell.execute_reply": "2022-08-06T05:13:51.353478Z"
    },
    "papermill": {
     "duration": 0.299945,
     "end_time": "2022-08-06T05:13:51.357899",
     "exception": false,
     "start_time": "2022-08-06T05:13:51.057954",
     "status": "completed"
    },
    "tags": []
   },
   "outputs": [
    {
     "name": "stdout",
     "output_type": "stream",
     "text": [
      "Model: \"sequential_4\"\n",
      "_________________________________________________________________\n",
      " Layer (type)                Output Shape              Param #   \n",
      "=================================================================\n",
      " conv2d_11 (Conv2D)          (None, 30, 30, 32)        896       \n",
      "                                                                 \n",
      " batch_normalization_15 (Ba  (None, 30, 30, 32)        128       \n",
      " tchNormalization)                                               \n",
      "                                                                 \n",
      " max_pooling2d_11 (MaxPooli  (None, 15, 15, 32)        0         \n",
      " ng2D)                                                           \n",
      "                                                                 \n",
      " dropout_15 (Dropout)        (None, 15, 15, 32)        0         \n",
      "                                                                 \n",
      " conv2d_12 (Conv2D)          (None, 13, 13, 64)        18496     \n",
      "                                                                 \n",
      " batch_normalization_16 (Ba  (None, 13, 13, 64)        256       \n",
      " tchNormalization)                                               \n",
      "                                                                 \n",
      " max_pooling2d_12 (MaxPooli  (None, 6, 6, 64)          0         \n",
      " ng2D)                                                           \n",
      "                                                                 \n",
      " dropout_16 (Dropout)        (None, 6, 6, 64)          0         \n",
      "                                                                 \n",
      " flatten_4 (Flatten)         (None, 2304)              0         \n",
      "                                                                 \n",
      " dense_8 (Dense)             (None, 128)               295040    \n",
      "                                                                 \n",
      " batch_normalization_17 (Ba  (None, 128)               512       \n",
      " tchNormalization)                                               \n",
      "                                                                 \n",
      " dropout_17 (Dropout)        (None, 128)               0         \n",
      "                                                                 \n",
      " dense_9 (Dense)             (None, 1)                 129       \n",
      "                                                                 \n",
      "=================================================================\n",
      "Total params: 315457 (1.20 MB)\n",
      "Trainable params: 315009 (1.20 MB)\n",
      "Non-trainable params: 448 (1.75 KB)\n",
      "_________________________________________________________________\n"
     ]
    }
   ],
   "source": [
    "IMAGE_WIDTH = X_train.shape[1]\n",
    "IMAGE_HEIGHT = X_train.shape[2]\n",
    "\n",
    "image_shape = (IMAGE_WIDTH, IMAGE_HEIGHT,IMAGE_CHANNELS)\n",
    "\n",
    "model = CNN_Model(image_shape)\n",
    "\n",
    "model.compile(loss='binary_crossentropy', optimizer='adam', metrics=['accuracy'])\n",
    "\n",
    "model.summary()"
   ]
  },
  {
   "cell_type": "markdown",
   "id": "5aa9077b",
   "metadata": {},
   "source": [
    "## 4.2 Training"
   ]
  },
  {
   "cell_type": "code",
   "execution_count": 33,
   "id": "b687cb3c",
   "metadata": {
    "execution": {
     "iopub.execute_input": "2022-08-06T05:13:51.396450Z",
     "iopub.status.busy": "2022-08-06T05:13:51.396024Z",
     "iopub.status.idle": "2022-08-06T05:52:08.784933Z",
     "shell.execute_reply": "2022-08-06T05:52:08.782573Z"
    },
    "papermill": {
     "duration": 2297.412473,
     "end_time": "2022-08-06T05:52:08.788196",
     "exception": false,
     "start_time": "2022-08-06T05:13:51.375723",
     "status": "completed"
    },
    "scrolled": true,
    "tags": []
   },
   "outputs": [
    {
     "name": "stdout",
     "output_type": "stream",
     "text": [
      "Epoch 1/3\n",
      "58/58 [==============================] - 3s 16ms/step - loss: 0.8051 - accuracy: 0.6264\n",
      "Epoch 2/3\n",
      "58/58 [==============================] - 1s 16ms/step - loss: 0.6132 - accuracy: 0.7238\n",
      "Epoch 3/3\n",
      "58/58 [==============================] - 1s 16ms/step - loss: 0.5338 - accuracy: 0.7564\n"
     ]
    }
   ],
   "source": [
    "history=model.fit(X_train, Y_train, epochs=3)"
   ]
  },
  {
   "cell_type": "markdown",
   "id": "aceddc01",
   "metadata": {},
   "source": [
    "## 4.3 Save the model"
   ]
  },
  {
   "cell_type": "code",
   "execution_count": 34,
   "id": "379fc1cb",
   "metadata": {},
   "outputs": [],
   "source": [
    "\n",
    "model.save(f\"{model_path}{model_name}.keras\")\n"
   ]
  },
  {
   "cell_type": "code",
   "execution_count": null,
   "id": "2964e083",
   "metadata": {},
   "outputs": [],
   "source": []
  }
 ],
 "metadata": {
  "kernelspec": {
   "display_name": "Python 3 (ipykernel)",
   "language": "python",
   "name": "python3"
  },
  "language_info": {
   "codemirror_mode": {
    "name": "ipython",
    "version": 3
   },
   "file_extension": ".py",
   "mimetype": "text/x-python",
   "name": "python",
   "nbconvert_exporter": "python",
   "pygments_lexer": "ipython3",
   "version": "3.11.5"
  },
  "papermill": {
   "default_parameters": {},
   "duration": 2574.712434,
   "end_time": "2022-08-06T05:52:55.187756",
   "environment_variables": {},
   "exception": null,
   "input_path": "__notebook__.ipynb",
   "output_path": "__notebook__.ipynb",
   "parameters": {},
   "start_time": "2022-08-06T05:10:00.475322",
   "version": "2.3.4"
  }
 },
 "nbformat": 4,
 "nbformat_minor": 5
}
